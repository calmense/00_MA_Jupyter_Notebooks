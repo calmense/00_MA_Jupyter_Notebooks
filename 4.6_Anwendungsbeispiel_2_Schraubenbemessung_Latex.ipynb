{
 "cells": [
  {
   "attachments": {},
   "cell_type": "markdown",
   "id": "0306d0d2",
   "metadata": {},
   "source": []
  },
  {
   "attachments": {
    "image_header_vg.png": {
     "image/png": "[encoded data removed]"
    }
   },
   "cell_type": "markdown",
   "id": "3eb839c5",
   "metadata": {},
   "source": [
    "![image_header_vg.png](attachment:image_header_vg.png)"
   ]
  },
  {
   "cell_type": "markdown",
   "id": "1c1cd2c6",
   "metadata": {},
   "source": [
    "# Anwendungsbeispiel 2: Schraubenbemessung "
   ]
  },
  {
   "cell_type": "markdown",
   "id": "830f8757",
   "metadata": {},
   "source": [
    "\n",
    "## Einführung\n",
    "\n",
    "Neben der Darstellung der Tragfähigkeiten der Vollgewindeschrauben in Form von Tabellen und Diagrammen, soll die Anzeige eines Einzelnachweises ermöglicht werden. Dabei sollen die Berechnungen mit Hilfe der in Streamlit integrierten Funktion *st.latex* in Latex gerendert angezeigt werden. Die Funktionen sollen vollständig mit Variablen formuliert werden.\n",
    "\n",
    "```python\n",
    "st.latex()\n",
    "```\n",
    "\n",
    "## Latex\n",
    "\n",
    "Hierzu werden im Groben die Grundlagen in Latex erläutert.\n",
    "Die Bibliothek *IPython (Interactive Python)* bietet eine interaktive Schnittstelle zu Python und kann dazu verwendet werden Bilder, Töne, Textformate oder Steuerlemente in ein Jupyter-Notebook einzufügen.\n",
    "Es werden die Komponenten *display* und *Latex* importiert.\n",
    "\n",
    "https://docs.python.org/3/library/stdtypes.html#printf-style-string-formatting\n",
    "\n",
    "### Tiefstellungen\n",
    "\n",
    "Grundsätzlich werden mathematische Formeln in Latex innerhalb von Dollarzeichen *$* geschrieben.\n",
    "Tiefstellungen werden mit einem Unterstrich getrennt und werden in geschweiften Klammern definiert.\n",
    "<center>\n",
    "\n",
    "```python \n",
    "$f_{headk}$ \n",
    "```\n",
    "<center> $f_{headk}$ </end>\n",
    "<br>\n",
    "\n",
    "\n",
    "### Mathematische Operatoren\n",
    "\n",
    "Wird ein Latex-Befehl initiiert, wird ein Rückwärtsschrägstrich verwendet. \n",
    "Darauf können mathematische Operatoren, wie Brüche, Wurzeln oder griechische Symbole folgen.\n",
    "\n",
    "\n",
    "<b>Brüche<b>\n",
    "<center> \n",
    "\n",
    "```python \n",
    "$\\frac{f_{hk}*t_{1}*d}{2+\\beta}$\n",
    "```\n",
    "<center> $\\frac{f_{hk}*t_{1}*d}{2}$\n",
    "\n",
    "\n",
    "<b>Wurzeln<b>\n",
    "<center>\n",
    "\n",
    "```python \n",
    "$\\sqrt{2*(1+f_{hk})}$\n",
    "```\n",
    "<center> $\\sqrt{2*(1+f_{hk})}$\n",
    "\n",
    "\n",
    "<b>Griechische Symbole<b>\n",
    "<center> \n",
    "\n",
    "```python \n",
    "$\\pi$ $\\omega$ $\\lambda$ $\\phi$\n",
    "```\n",
    "<center> $\\pi$ $\\omega$ $\\lambda$ $\\phi$\n",
    "\n",
    "\n",
    "<b>Weitere Operatoren<b><center>\n",
    "\n",
    "```python \n",
    "$\\sin(\\alpha))$ \n",
    "```\n",
    "<center> $\\sin(\\alpha))$ \n",
    "\n",
    "<b>Komplexe Brüche<b>\n",
    "\n",
    "<center> \n",
    "\n",
    "```python \n",
    "$\\left(\\sqrt{2\\beta*(1+\\beta)+\\frac{4*\\beta*(2+\\beta)*M_{yRk}}{f_{hk}*d*t_{1}^2}}-\\beta\\right)$\n",
    "```\n",
    "<center> $\\left(\\sqrt{2\\beta*(1+\\beta)+\\frac{4*\\beta*(2+\\beta)*M_{yRk}}{f_{hk}*d*t_{1}^2}}-\\beta\\right)$"
   ]
  },
  {
   "cell_type": "code",
   "execution_count": null,
   "id": "c0762c6e",
   "metadata": {},
   "outputs": [],
   "source": []
  }
 ],
 "metadata": {
  "hide_input": false,
  "kernelspec": {
   "display_name": "Python 3 (ipykernel)",
   "language": "python",
   "name": "python3"
  },
  "language_info": {
   "codemirror_mode": {
    "name": "ipython",
    "version": 3
   },
   "file_extension": ".py",
   "mimetype": "text/x-python",
   "name": "python",
   "nbconvert_exporter": "python",
   "pygments_lexer": "ipython3",
   "version": "3.9.12"
  },
  "toc": {
   "base_numbering": "4",
   "nav_menu": {},
   "number_sections": true,
   "sideBar": true,
   "skip_h1_title": false,
   "title_cell": "Table of Contents",
   "title_sidebar": "Contents",
   "toc_cell": false,
   "toc_position": {
    "height": "calc(100% - 180px)",
    "left": "10px",
    "top": "150px",
    "width": "409.6px"
   },
   "toc_section_display": true,
   "toc_window_display": true
  },
  "varInspector": {
   "cols": {
    "lenName": 16,
    "lenType": 16,
    "lenVar": 40
   },
   "kernels_config": {
    "python": {
     "delete_cmd_postfix": "",
     "delete_cmd_prefix": "del ",
     "library": "var_list.py",
     "varRefreshCmd": "print(var_dic_list())"
    },
    "r": {
     "delete_cmd_postfix": ") ",
     "delete_cmd_prefix": "rm(",
     "library": "var_list.r",
     "varRefreshCmd": "cat(var_dic_list()) "
    }
   },
   "types_to_exclude": [
    "module",
    "function",
    "builtin_function_or_method",
    "instance",
    "_Feature"
   ],
   "window_display": false
  }
 },
 "nbformat": 4,
 "nbformat_minor": 5
}
