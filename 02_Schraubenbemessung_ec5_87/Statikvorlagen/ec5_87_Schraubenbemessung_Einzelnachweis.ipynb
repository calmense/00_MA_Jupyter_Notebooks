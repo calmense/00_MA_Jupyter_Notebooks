{
 "cells": [
  {
   "attachments": {
    "image_header_vg.png": {
     "image/png": "[encoded data removed]"
    }
   },
   "cell_type": "markdown",
   "id": "995c25f2",
   "metadata": {},
   "source": [
    "![image_header_vg.png](attachment:image_header_vg.png)"
   ]
  },
  {
   "cell_type": "markdown",
   "id": "bd080636",
   "metadata": {},
   "source": [
    "# Tragfähigkeit von Schrauben\n",
    "*DIN EN 1995-1-1 Abs. 8 & ETA-11/0190*"
   ]
  },
  {
   "cell_type": "code",
   "execution_count": 82,
   "id": "c41e2b37",
   "metadata": {},
   "outputs": [],
   "source": [
    "from math import sqrt, cos, sin, pi  #Mathematische Funktionen\n",
    "import pandas as pd                  #Datenstrukturen und DataFrames\n",
    "import handcalcs.render              #Darstellung formattierter Gleichungen"
   ]
  },
  {
   "cell_type": "code",
   "execution_count": 83,
   "id": "e8763818",
   "metadata": {},
   "outputs": [],
   "source": [
    "#Listen der herstellerspezifischen Kennwerte für Würth ASSY plus VG\n",
    "\n",
    "##Liste der Durchmesser [mm]\n",
    "L_d = [6, 8, 10, 12]\n",
    "\n",
    "##Liste der Schraubenlängen [mm]\n",
    "L_L = [[120,140,160,180,200,220,240,260], \n",
    "       [120,140,160,180,200,220,240,260,280,300,330,380,430,480,530,580], \n",
    "       [120,140,160,180,200,220,240,260,280,300,320,340,360,380,400,430,480,530,580,600,650,700,750,800], \n",
    "       [120,140,160,180,200,220,240,260,280,300,380,480,600]]\n",
    "\n",
    "##Liste der char. Ausziehparameter [N/mm^2]\n",
    "L_f_axk = [11.5, 11, 10, 10]\n",
    "\n",
    "##Liste der Zugtragfähigkeiten [kN]\n",
    "L_f_tensk = [11, 20, 32, 45]\n",
    "\n",
    "##Liste der Kopfdurchmesser [mm]\n",
    "L_d_h = [14, 22, 25.2, 29.4]\n",
    "\n",
    "##Liste der char. Kopfdurchziehparameter [N/mm^2]\n",
    "L_f_head = [13, 13, 10, 10]"
   ]
  },
  {
   "cell_type": "code",
   "execution_count": 84,
   "id": "5b512a1d",
   "metadata": {},
   "outputs": [],
   "source": [
    "#Eingangsparameter\n",
    "##Nachweisführung\n",
    "k_mod = 0.6  #Widerstandsbeiwert\n",
    "gamma = 1.3  #gamma\n",
    "\n",
    "##Verbindungsmittel\n",
    "d = 6        #mm - Durchmesser (6,8,10,12)\n",
    "L = 240      #mm - Schraubenlänge\n",
    "t_1 = 100    #mm - Seitenholzdicke \n",
    "t_Blech = 0  #mm - Blechdicke \n",
    "rho_k = 350  #$kg/m^3$ - Holzrohdichte\n",
    "alpha = 15   #Grad - Winkel Kraft zur Faserrichtung\n",
    "\n",
    "##Einwirkung\n",
    "F_tEd = 2    #kN - Zugkraft\n",
    "F_vEd = 2    #kN - Querkraft"
   ]
  },
  {
   "cell_type": "markdown",
   "id": "d240e97a",
   "metadata": {},
   "source": [
    "## Eingabewerte\n",
    "### Verbindungsmittel"
   ]
  },
  {
   "cell_type": "code",
   "execution_count": 85,
   "id": "d4b5c558",
   "metadata": {},
   "outputs": [
    {
     "data": {
      "text/latex": [
       "\\[\n",
       "\\begin{aligned}\n",
       "d &= 6 \\; \\;\\textrm{(mm - Durchmesser)}\n",
       " &L &= 240 \\; \\;\\textrm{(mm - Schraubenlänge)}\n",
       "\\end{aligned}\n",
       "\\]"
      ],
      "text/plain": [
       "<IPython.core.display.Latex object>"
      ]
     },
     "metadata": {},
     "output_type": "display_data"
    }
   ],
   "source": [
    "%%render params\n",
    "d #mm - Durchmesser\n",
    "L #mm - Schraubenlänge"
   ]
  },
  {
   "cell_type": "markdown",
   "id": "a73d33ef",
   "metadata": {},
   "source": [
    "### Holz"
   ]
  },
  {
   "cell_type": "code",
   "execution_count": 86,
   "id": "e8ae3ec8",
   "metadata": {
    "scrolled": true
   },
   "outputs": [
    {
     "data": {
      "text/latex": [
       "\\[\n",
       "\\begin{aligned}\n",
       "\\rho_{k} &= 350 \\; \\;\\textrm{($kg/m^3$ - Holzrohdichte)}\n",
       "\\end{aligned}\n",
       "\\]"
      ],
      "text/plain": [
       "<IPython.core.display.Latex object>"
      ]
     },
     "metadata": {},
     "output_type": "display_data"
    }
   ],
   "source": [
    "%%render params\n",
    "rho_k #$kg/m^3$ - Holzrohdichte"
   ]
  },
  {
   "cell_type": "markdown",
   "id": "9f53fe6a",
   "metadata": {},
   "source": [
    "### Nachweisführung"
   ]
  },
  {
   "cell_type": "code",
   "execution_count": 87,
   "id": "06a7e19b",
   "metadata": {
    "scrolled": true
   },
   "outputs": [
    {
     "data": {
      "text/latex": [
       "\\[\n",
       "\\begin{aligned}\n",
       "k_{mod} &= 0.60 \\; \n",
       " &\\gamma &= 1.30 \\;\n",
       "\\end{aligned}\n",
       "\\]"
      ],
      "text/plain": [
       "<IPython.core.display.Latex object>"
      ]
     },
     "metadata": {},
     "output_type": "display_data"
    }
   ],
   "source": [
    "%%render params 2\n",
    "k_mod\n",
    "gamma"
   ]
  },
  {
   "cell_type": "markdown",
   "id": "01cfd636",
   "metadata": {},
   "source": [
    "### Einwirkung"
   ]
  },
  {
   "cell_type": "code",
   "execution_count": 88,
   "id": "0d12fc5b",
   "metadata": {
    "scrolled": true
   },
   "outputs": [
    {
     "data": {
      "text/latex": [
       "\\[\n",
       "\\begin{aligned}\n",
       "F_{tEd} &= 2 \\; \\;\\textrm{(kN - Zugkraft)}\n",
       " &F_{vEd} &= 2 \\; \\;\\textrm{(kN - Querkraft)}\n",
       "\\end{aligned}\n",
       "\\]"
      ],
      "text/plain": [
       "<IPython.core.display.Latex object>"
      ]
     },
     "metadata": {},
     "output_type": "display_data"
    }
   ],
   "source": [
    "%%render params 2\n",
    "F_tEd    #kN - Zugkraft\n",
    "F_vEd    #kN - Querkraft"
   ]
  },
  {
   "cell_type": "code",
   "execution_count": 89,
   "id": "d140c401",
   "metadata": {},
   "outputs": [],
   "source": [
    "#Auswertung der eingelesenen Daten\n",
    "\n",
    "#Umrechnung von alpha in Bogenmaß\n",
    "alph = alpha*pi/180\n",
    "\n",
    "#Effektive Länge der Schraube\n",
    "t_2 = L-t_1\n",
    "if t_2 == 0:\n",
    "    l_ef = (t_1-t_Blech)\n",
    "else: \n",
    "    l_ef = t_2\n",
    "\n",
    "#Materialkennwerte\n",
    "##Listen der herstellerspezifischen Kennwerte\n",
    "L_d = [6, 8, 10, 12]\n",
    "L_f_axk = [11.5, 11, 10, 10]\n",
    "L_f_tensk = [11, 20, 32, 45]\n",
    "L_d_h = [14, 22, 25.2, 29.4]\n",
    "L_f_headk = [13, 13, 10, 10]\n",
    "\n",
    "##Index\n",
    "index = L_d.index(d)\n",
    "d_h = L_d_h[index]\n",
    "f_headk = L_f_headk[index]\n",
    "f_axk = L_f_axk[index]\n",
    "f_tensk = L_f_tensk[index]\n",
    "f_hk = round((0.082*rho_k*d**(-0.3)),2)\n",
    "M_yrk = round(0.15*600*d**(2.6),2)"
   ]
  },
  {
   "cell_type": "markdown",
   "id": "870ce3a2",
   "metadata": {},
   "source": [
    "## Axialtragfähigkeit\n",
    "DIN EN 1995-1-1 Abs. 8.3"
   ]
  },
  {
   "cell_type": "markdown",
   "id": "a8657de1",
   "metadata": {},
   "source": [
    "### Ausziehwiderstand"
   ]
  },
  {
   "cell_type": "code",
   "execution_count": 90,
   "id": "b16bc263",
   "metadata": {
    "scrolled": true
   },
   "outputs": [
    {
     "data": {
      "text/latex": [
       "\\[\n",
       "\\begin{aligned}\n",
       "k_{axk} &= 0.3 + \\frac{ 0.7 \\cdot \\alpha }{ 45 }  = 0.3 + \\frac{ 0.7 \\cdot 15 }{ 45 } &= 0.53  \n",
       "\\\\[10pt]\n",
       "F_{axrk1} &= \\left( k_{axk} \\cdot f_{axk} \\cdot d \\cdot l_{ef} \\right) \\cdot \\left( \\frac{ \\rho_{k} }{ 350 } \\right) ^{ 0.8 }  = \\left( 0.53 \\cdot 11.50 \\cdot 6 \\cdot 140 \\right) \\cdot \\left( \\frac{ 350 }{ 350 } \\right) ^{ 0.8 } &= 5152.00 \\; \\;\\textrm{(N)}\n",
       "\\\\[10pt]\n",
       "F_{axRk1} &= \\frac{ F_{axrk1} }{ 1000 }  = \\frac{ 5152.00 }{ 1000 } &= 5.15 \\; \\;\\textrm{(kN)}\n",
       "\\end{aligned}\n",
       "\\]"
      ],
      "text/plain": [
       "<IPython.core.display.Latex object>"
      ]
     },
     "metadata": {},
     "output_type": "display_data"
    }
   ],
   "source": [
    "%%render 2\n",
    "k_axk = 0.3+(0.7*alpha)/45 if alpha <= 45 else  1\n",
    "F_axrk1 = (k_axk*f_axk*d*l_ef) * (rho_k/350)**0.8 #N\n",
    "F_axRk1 = F_axrk1/1000 #kN"
   ]
  },
  {
   "cell_type": "markdown",
   "id": "f6f3f3f3",
   "metadata": {},
   "source": [
    "### Kopfdurchziehwiderstand"
   ]
  },
  {
   "cell_type": "code",
   "execution_count": 91,
   "id": "2a7775e9",
   "metadata": {},
   "outputs": [
    {
     "data": {
      "text/latex": [
       "\\[\n",
       "\\begin{aligned}\n",
       "F_{headrk} &= f_{headk} \\cdot \\left( d_{h} \\right) ^{ 2 } \\cdot \\left( \\frac{ \\rho_{k} }{ 350 } \\right) ^{ 0.8 }  = 13 \\cdot \\left( 14 \\right) ^{ 2 } \\cdot \\left( \\frac{ 350 }{ 350 } \\right) ^{ 0.8 } &= 2548.00 \\; \\;\\textrm{(N)}\n",
       "\\\\[10pt]\n",
       "F_{headRk} &= \\frac{ F_{headrk} }{ 1000 }  = \\frac{ 2548.00 }{ 1000 } &= 2.55 \\; \\;\\textrm{(kN)}\n",
       "\\end{aligned}\n",
       "\\]"
      ],
      "text/plain": [
       "<IPython.core.display.Latex object>"
      ]
     },
     "metadata": {},
     "output_type": "display_data"
    }
   ],
   "source": [
    "%%render 2\n",
    "F_headrk = f_headk*(d_h)**2 * (rho_k/350)**0.8 #N\n",
    "F_headRk = F_headrk/1000 #kN"
   ]
  },
  {
   "cell_type": "markdown",
   "id": "827606d7",
   "metadata": {},
   "source": [
    "### Zugfestigkeit"
   ]
  },
  {
   "cell_type": "code",
   "execution_count": 92,
   "id": "f515a07c",
   "metadata": {},
   "outputs": [
    {
     "data": {
      "text/latex": [
       "\\[\n",
       "\\begin{aligned}\n",
       "F_{tRk} &= 11 \\; \\;\\textrm{(kN)}\n",
       "\\end{aligned}\n",
       "\\]"
      ],
      "text/plain": [
       "<IPython.core.display.Latex object>"
      ]
     },
     "metadata": {},
     "output_type": "display_data"
    }
   ],
   "source": [
    "%%render \n",
    "F_tRk = f_tensk #kN"
   ]
  },
  {
   "cell_type": "markdown",
   "id": "ab873671",
   "metadata": {},
   "source": [
    "### Axialtragfähigkeit"
   ]
  },
  {
   "cell_type": "code",
   "execution_count": 109,
   "id": "e4759842",
   "metadata": {},
   "outputs": [
    {
     "data": {
      "text/markdown": [
       "$Kopfdurchziehtragfähigkeit$  $wird$  $nicht$  $berücksichtigt.$"
      ],
      "text/plain": [
       "<IPython.core.display.Markdown object>"
      ]
     },
     "metadata": {},
     "output_type": "display_data"
    },
    {
     "data": {
      "text/markdown": [
       "$F_{axRk}$ = min($F_{axRk1}$, $F_{tRk}$)"
      ],
      "text/plain": [
       "<IPython.core.display.Markdown object>"
      ]
     },
     "metadata": {},
     "output_type": "display_data"
    }
   ],
   "source": [
    "if t_Blech != 0 or t_2 > 4*d:\n",
    "    display(Markdown(\"\"\"$Kopfdurchziehtragfähigkeit$  $wird$  $nicht$  $berücksichtigt.$\"\"\"))\n",
    "    display(Markdown(\"\"\"$F_{axRk}$ = min($F_{axRk1}$, $F_{tRk}$)\"\"\"))\n",
    "    \n",
    "    \n",
    "elif t_Blech == 0 or t_2 < 4*d:\n",
    "    display(Markdown(\"\"\"$Kopfdurchziehtragfähigkeit$  $wird$  $berücksichtigt.$\"\"\"))\n",
    "    display(Markdown(\"\"\"$F_{axRk}$ = min($F_{axRk1}$, $F_{tRk}$, $F_{headrk}$)\"\"\"))\n"
   ]
  },
  {
   "cell_type": "code",
   "execution_count": 94,
   "id": "c4d3a5fe",
   "metadata": {},
   "outputs": [],
   "source": [
    "if t_Blech != 0 or t_2 > 4*d:\n",
    "    F_axRk = min(F_axRk1, F_tRk)\n",
    "    F_axrk = min(F_axrk1, F_tRk*1000)\n",
    "elif t_stahl == 0 or t_2 < 4*d:\n",
    "    F_axRk = min(F_axRk1, F_headRk, F_tRk)\n",
    "    F_axrk = min(F_axrk1, F_headrk, F_tRk*1000)"
   ]
  },
  {
   "cell_type": "code",
   "execution_count": 95,
   "id": "cd0a065a",
   "metadata": {},
   "outputs": [
    {
     "data": {
      "text/latex": [
       "\\[\n",
       "\\begin{aligned}\n",
       "F_{axRk} &= 5.15 \\; \\;\\textrm{(kN - Axialtragfähigkeit)}\n",
       "\\end{aligned}\n",
       "\\]"
      ],
      "text/plain": [
       "<IPython.core.display.Latex object>"
      ]
     },
     "metadata": {},
     "output_type": "display_data"
    }
   ],
   "source": [
    "%%render 2\n",
    "F_axRk #kN - Axialtragfähigkeit"
   ]
  },
  {
   "cell_type": "markdown",
   "id": "b9826e0c",
   "metadata": {},
   "source": [
    "## Schertragfähigkeit\n",
    "DIN EN 1995-1-1 Abs. 8.3"
   ]
  },
  {
   "cell_type": "code",
   "execution_count": 96,
   "id": "67f89343",
   "metadata": {},
   "outputs": [
    {
     "data": {
      "text/markdown": [
       "$Holz-Holz-Verbindung: einschnittig (N)$"
      ],
      "text/plain": [
       "<IPython.core.display.Markdown object>"
      ]
     },
     "metadata": {},
     "output_type": "display_data"
    }
   ],
   "source": [
    "if t_Blech == 0:\n",
    "    display(Markdown(\"\"\"$Holz-Holz-Verbindung: einschnittig (N)$\"\"\"))\n",
    "\n",
    "elif t_Blech >= d: \n",
    "    display(Markdown(\"\"\"$Stahl-Holz-Verbindung: dickes Stahlblech (N)$\"\"\"))\n",
    "    \n",
    "elif t_Blech < d and t_Blech > 0:  \n",
    "    display(Markdown(\"\"\"$Stahl-Holz-Verbindung: dünnes Stahlblech (N)$\"\"\"))\n"
   ]
  },
  {
   "cell_type": "code",
   "execution_count": 97,
   "id": "73fdd8ef",
   "metadata": {},
   "outputs": [
    {
     "data": {
      "text/latex": [
       "\\[\n",
       "\\begin{aligned}\n",
       "&\\text{Since, } t_{Blech} = 0 \\rightarrow \\left( 0 = 0 \\right) :   \\end{aligned}\n",
       "\\]\n",
       "\\[\n",
       "\\begin{aligned}\n",
       "F_{vk1} &= f_{hk} \\cdot t_{1} \\cdot d \\\\&= 16.8 \\cdot 100 \\cdot 6 \\\\&= 10062.0  \\\\[10pt]\n",
       "\\\\[10pt]\n",
       "F_{vk2} &= f_{hk} \\cdot t_{2} \\cdot d \\\\&= 16.8 \\cdot 140 \\cdot 6 \\\\&= 14086.8  \\\\[10pt]\n",
       "\\\\[10pt]\n",
       "F_{vk3} &= \\frac{ f_{hk} \\cdot t_{1} \\cdot d }{ 2 } \\cdot \\left( \\sqrt { 1 + 2 \\cdot \\left( 1 + \\frac{ t_{2} }{ t_{1} } + \\left( \\frac{ t_{2} }{ t_{1} } \\right) ^{ 2 } \\right) + \\left( \\frac{ t_{2} }{ t_{1} } \\right) ^{ 2 } } - \\left( 1 + \\frac{ t_{2} }{ t_{1} } \\right) \\right) + \\frac{ F_{axrk} }{ 4 } \\\\&= \\frac{ 16.8 \\cdot 100 \\cdot 6 }{ 2 } \\cdot \\left( \\sqrt { 1 + 2 \\cdot \\left( 1 + \\frac{ 140 }{ 100 } + \\left( \\frac{ 140 }{ 100 } \\right) ^{ 2 } \\right) + \\left( \\frac{ 140 }{ 100 } \\right) ^{ 2 } } - \\left( 1 + \\frac{ 140 }{ 100 } \\right) \\right) + \\frac{ 5152.0 }{ 4 } \\\\&= 6407.6  \\\\[10pt]\n",
       "\\end{aligned}\n",
       "\\]"
      ],
      "text/plain": [
       "<IPython.core.display.Latex object>"
      ]
     },
     "metadata": {},
     "output_type": "display_data"
    }
   ],
   "source": [
    "%%render long 1\n",
    "if t_Blech == 0: F_vk1 = f_hk*t_1*d; F_vk2 = f_hk*t_2*d; F_vk3 = (f_hk*t_1*d)/2 * ( sqrt(1+2*(1+t_2/t_1+(t_2/t_1)**2)+(t_2/t_1)**2)-(1+t_2/t_1))+F_axrk/4  "
   ]
  },
  {
   "cell_type": "code",
   "execution_count": 98,
   "id": "f2634f12",
   "metadata": {},
   "outputs": [
    {
     "data": {
      "text/latex": [
       "\\[\n",
       "\\begin{aligned}\n",
       "&\\text{Since, } t_{Blech} = 0 \\rightarrow \\left( 0 = 0 \\right) :   \\end{aligned}\n",
       "\\]\n",
       "\\[\n",
       "\\begin{aligned}\n",
       "F_{vk4} &= 1.05 \\cdot \\frac{ f_{hk} \\cdot t_{1} \\cdot d }{ 3 } \\cdot \\left( \\sqrt { 4 + \\frac{ 12 \\cdot M_{yrk} }{ f_{hk} \\cdot \\left( t_{1} \\right) ^{ 2 } \\cdot d } } - 1 \\right) + \\frac{ F_{axrk} }{ 4 } \\\\&= 1.05 \\cdot \\frac{ 16.8 \\cdot 100 \\cdot 6 }{ 3 } \\cdot \\left( \\sqrt { 4 + \\frac{ 12 \\cdot 9493.7 }{ 16.8 \\cdot \\left( 100 \\right) ^{ 2 } \\cdot 6 } } - 1 \\right) + \\frac{ 5152.0 }{ 4 } \\\\&= 4908.7  \\\\[10pt]\n",
       "\\\\[10pt]\n",
       "F_{vk5} &= 1.05 \\cdot \\frac{ f_{hk} \\cdot t_{2} \\cdot d }{ 3 } \\cdot \\left( \\sqrt { 4 + \\frac{ 12 \\cdot M_{yrk} }{ f_{hk} \\cdot \\left( t_{2} \\right) ^{ 2 } \\cdot d } } - 1 \\right) + \\frac{ F_{axrk} }{ 4 } \\\\&= 1.05 \\cdot \\frac{ 16.8 \\cdot 140 \\cdot 6 }{ 3 } \\cdot \\left( \\sqrt { 4 + \\frac{ 12 \\cdot 9493.7 }{ 16.8 \\cdot \\left( 140 \\right) ^{ 2 } \\cdot 6 } } - 1 \\right) + \\frac{ 5152.0 }{ 4 } \\\\&= 6289.3  \\\\[10pt]\n",
       "\\\\[10pt]\n",
       "F_{vk6} &= 1.15 \\cdot \\sqrt { 2 \\cdot M_{yrk} \\cdot f_{hk} \\cdot d } + \\frac{ F_{axrk} }{ 4 } \\\\&= 1.15 \\cdot \\sqrt { 2 \\cdot 9493.7 \\cdot 16.8 \\cdot 6 } + \\frac{ 5152.0 }{ 4 } \\\\&= 2877.5  \\\\[10pt]\n",
       "\\\\[10pt]\n",
       "F_{vrk} &= \\operatorname{min} { \\left( F_{vk1} ,\\  F_{vk2} ,\\  F_{vk3} ,\\  F_{vk4} ,\\  F_{vk5} ,\\  F_{vk6} \\right) } \\\\&= \\operatorname{min} { \\left( 10062.0 ,\\  14086.8 ,\\  6407.6 ,\\  4908.7 ,\\  6289.3 ,\\  2877.5 \\right) } \\\\&= 2877.5  \\\\[10pt]\n",
       "\\end{aligned}\n",
       "\\]"
      ],
      "text/plain": [
       "<IPython.core.display.Latex object>"
      ]
     },
     "metadata": {},
     "output_type": "display_data"
    }
   ],
   "source": [
    "%%render long 1\n",
    "if t_Blech == 0: F_vk4 = 1.05*(f_hk*t_1*d)/(3) * (sqrt(4+(12*M_yrk)/(f_hk*t_1**2*d))-1)+F_axrk/4; F_vk5 = 1.05*(f_hk*t_2*d)/(3) * (sqrt(4+(12*M_yrk)/(f_hk*t_2**2*d))-1)+F_axrk/4; F_vk6 = 1.15*sqrt(2*M_yrk*f_hk*d)+F_axrk/4;F_vrk = min(F_vk1, F_vk2, F_vk3, F_vk4, F_vk5, F_vk6)    "
   ]
  },
  {
   "cell_type": "code",
   "execution_count": 99,
   "id": "4e61935f",
   "metadata": {
    "scrolled": true
   },
   "outputs": [
    {
     "data": {
      "text/latex": [
       "\\[\n",
       "\\begin{aligned}\n",
       "\\end{aligned}\n",
       "\\]"
      ],
      "text/plain": [
       "<IPython.core.display.Latex object>"
      ]
     },
     "metadata": {},
     "output_type": "display_data"
    }
   ],
   "source": [
    "%%render 1\n",
    "if t_Blech >= d: F_vk1 = f_hk*t_1*d; F_vk2 = f_hk*t_1*d*(sqrt(2+(4*M_yrk)/(f_hk*d*t_1**2))-1)+F_axrk/4; F_vk3 = 2.3*sqrt(M_yrk*f_hk*d)+F_axrk/4; F_vrk = min(F_vk1, F_vk2, F_vk3) #N\n",
    "    \n",
    "elif t_Blech < d and t_Blech != 0:F_vk1 = 0.4*f_hk*t_1*d; F_vk2 = 1.15*sqrt(2*M_yrk*f_hk*d)+F_axrk/4; F_vrk = min(F_vk1, F_vk2) #N"
   ]
  },
  {
   "cell_type": "markdown",
   "id": "c6671ffc",
   "metadata": {},
   "source": [
    "## Ergebnisse der Tragfähigkeiten"
   ]
  },
  {
   "cell_type": "markdown",
   "id": "c87617e4",
   "metadata": {},
   "source": [
    "### Charkteristische Werte"
   ]
  },
  {
   "cell_type": "code",
   "execution_count": 101,
   "id": "0102947f",
   "metadata": {},
   "outputs": [
    {
     "data": {
      "text/latex": [
       "\\[\n",
       "\\begin{aligned}\n",
       "F_{axRk} &= 5.15 \\; \\;\\textrm{(kN - Axialtragfähigkeit (char.))}\n",
       " &F_{vRk} &= 2.88 \\; \\;\\textrm{(kN - Schertragfähigkeit)}\n",
       "\\end{aligned}\n",
       "\\]"
      ],
      "text/plain": [
       "<IPython.core.display.Latex object>"
      ]
     },
     "metadata": {},
     "output_type": "display_data"
    }
   ],
   "source": [
    "%%render params 2\n",
    "F_axRk #kN - Axialtragfähigkeit (char.)\n",
    "F_vRk = F_vrk/1000 #kN - Schertragfähigkeit"
   ]
  },
  {
   "cell_type": "markdown",
   "id": "89e1f2a3",
   "metadata": {},
   "source": [
    "### Bemessungswerte"
   ]
  },
  {
   "cell_type": "code",
   "execution_count": 102,
   "id": "523fd23e",
   "metadata": {
    "scrolled": true
   },
   "outputs": [
    {
     "data": {
      "text/latex": [
       "\\[\n",
       "\\begin{aligned}\n",
       "F_{axRd} &= F_{axRk} \\cdot \\frac{ k_{mod} }{ \\gamma }  = 5.15 \\cdot \\frac{ 0.60 }{ 1.30 } &= 2.38 \\; \\;\\textrm{(kN - Axialtragfähigkeit)}\n",
       "\\\\[10pt]\n",
       "F_{vRd} &= F_{vRk} \\cdot \\frac{ k_{mod} }{ \\gamma }  = 2.88 \\cdot \\frac{ 0.60 }{ 1.30 } &= 1.33 \\; \\;\\textrm{(kN - Schertragfähigkeit)}\n",
       "\\end{aligned}\n",
       "\\]"
      ],
      "text/plain": [
       "<IPython.core.display.Latex object>"
      ]
     },
     "metadata": {},
     "output_type": "display_data"
    }
   ],
   "source": [
    "%%render 2\n",
    "F_axRd =  F_axRk*k_mod/gamma #kN - Axialtragfähigkeit\n",
    "F_vRd =  F_vRk*k_mod/gamma #kN - Schertragfähigkeit"
   ]
  },
  {
   "cell_type": "markdown",
   "id": "326180cc",
   "metadata": {},
   "source": [
    "### Nachweis"
   ]
  },
  {
   "cell_type": "code",
   "execution_count": 105,
   "id": "7bbb6d70",
   "metadata": {
    "scrolled": true
   },
   "outputs": [
    {
     "data": {
      "text/latex": [
       "\\[\n",
       "\\begin{aligned}\n",
       "\\eta_{ax} &= \\frac{ F_{tEd} }{ F_{axRd} }  = \\frac{ 2 }{ 2.38 } &= 0.84 \\; \\;\\textrm{(Scherung)}\n",
       "\\\\[10pt]\n",
       "\\eta_{v} &= \\frac{ F_{vEd} }{ F_{vRd} }  = \\frac{ 2 }{ 1.33 } &= 1.51 \\; \\;\\textrm{(Axial)}\n",
       "\\end{aligned}\n",
       "\\]"
      ],
      "text/plain": [
       "<IPython.core.display.Latex object>"
      ]
     },
     "metadata": {},
     "output_type": "display_data"
    }
   ],
   "source": [
    "%%render 2\n",
    "eta_ax =  F_tEd/F_axRd #Scherung\n",
    "eta_v =  F_vEd/F_vRd #Axial"
   ]
  },
  {
   "cell_type": "code",
   "execution_count": null,
   "id": "71ce5277",
   "metadata": {},
   "outputs": [],
   "source": []
  }
 ],
 "metadata": {
  "hide_input": false,
  "kernelspec": {
   "display_name": "Python 3 (ipykernel)",
   "language": "python",
   "name": "python3"
  },
  "language_info": {
   "codemirror_mode": {
    "name": "ipython",
    "version": 3
   },
   "file_extension": ".py",
   "mimetype": "text/x-python",
   "name": "python",
   "nbconvert_exporter": "python",
   "pygments_lexer": "ipython3",
   "version": "3.9.12"
  },
  "toc": {
   "base_numbering": 1,
   "nav_menu": {},
   "number_sections": true,
   "sideBar": true,
   "skip_h1_title": true,
   "title_cell": "Table of Contents",
   "title_sidebar": "Contents",
   "toc_cell": false,
   "toc_position": {
    "height": "calc(100% - 180px)",
    "left": "10px",
    "top": "150px",
    "width": "409.6px"
   },
   "toc_section_display": true,
   "toc_window_display": true
  },
  "varInspector": {
   "cols": {
    "lenName": 16,
    "lenType": 16,
    "lenVar": 40
   },
   "kernels_config": {
    "python": {
     "delete_cmd_postfix": "",
     "delete_cmd_prefix": "del ",
     "library": "var_list.py",
     "varRefreshCmd": "print(var_dic_list())"
    },
    "r": {
     "delete_cmd_postfix": ") ",
     "delete_cmd_prefix": "rm(",
     "library": "var_list.r",
     "varRefreshCmd": "cat(var_dic_list()) "
    }
   },
   "types_to_exclude": [
    "module",
    "function",
    "builtin_function_or_method",
    "instance",
    "_Feature"
   ],
   "window_display": false
  }
 },
 "nbformat": 4,
 "nbformat_minor": 5
}
